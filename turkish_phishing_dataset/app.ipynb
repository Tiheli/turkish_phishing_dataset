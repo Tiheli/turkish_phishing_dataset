{
 "cells": [
  {
   "cell_type": "markdown",
   "id": "b172a5ef",
   "metadata": {},
   "source": [
    "# Project Architecture "
   ]
  },
  {
   "cell_type": "markdown",
   "id": "b7c480d9",
   "metadata": {},
   "source": [
    "## Goal"
   ]
  },
  {
   "cell_type": "markdown",
   "id": "a5bbc987",
   "metadata": {},
   "source": [
    "The main objective of this project is to classify Turkish emails as either \"Legitimate\" or \"Phishing\" by utilizing a Turkish phishing email dataset. The project aims to implement and compare different machine learning algorithms to evaluate their performance and effectiveness in detecting phishing emails."
   ]
  },
  {
   "cell_type": "markdown",
   "id": "44db5ff7",
   "metadata": {},
   "source": [
    "## Import Libraries and Load Data"
   ]
  },
  {
   "cell_type": "code",
   "execution_count": 37,
   "id": "b331e87d",
   "metadata": {},
   "outputs": [],
   "source": [
    "import pandas as pd\n",
    "import numpy as np\n",
    "from sklearn.model_selection import train_test_split\n",
    "from sklearn.feature_extraction.text import TfidfVectorizer\n",
    "from sklearn.preprocessing import StandardScaler\n",
    "from sklearn.decomposition import PCA\n",
    "from sklearn.ensemble import RandomForestClassifier\n",
    "from sklearn.linear_model import LogisticRegression\n",
    "from sklearn.svm import SVC\n",
    "from sklearn.neighbors import KNeighborsClassifier\n",
    "from xgboost import XGBClassifier\n",
    "from sklearn.metrics import classification_report, f1_score, confusion_matrix\n",
    "import matplotlib.pyplot as plt\n",
    "import seaborn as sns\n",
    "import torch\n",
    "from transformers import BertTokenizer, BertForSequenceClassification\n",
    "from torch.utils.data import DataLoader, TensorDataset, RandomSampler, SequentialSampler\n",
    "from torch.optim import AdamW\n",
    "from transformers import get_linear_schedule_with_warmup\n",
    "from torch.cuda.amp import GradScaler, autocast"
   ]
  },
  {
   "cell_type": "code",
   "execution_count": 38,
   "id": "c0785c15",
   "metadata": {},
   "outputs": [],
   "source": [
    "# Load the dataset\n",
    "df = pd.read_csv('turkish_phishing_dataset.csv')\n",
    "df = df[['Konu', 'Gönderen', 'İçerik', 'Kategori']].dropna()\n",
    "df['text'] = df['Konu'] + \" \" + df['Gönderen'] + \" \" + df['İçerik']\n",
    "df['label'] = df['Kategori'].map({'Güvenilir': 0, 'Oltalama': 1})\n",
    "\n",
    "# Split the data into train, validation, and test sets for BERT\n",
    "X_train_val, X_test, y_train_val, y_test = train_test_split(\n",
    "    df['text'], df['label'], test_size=0.2, random_state=42, stratify=df['label']\n",
    ")\n",
    "X_train, X_val, y_train, y_val = train_test_split(\n",
    "    X_train_val, y_train_val, test_size=0.1765, random_state=42, stratify=y_train_val\n",
    ")  # 0.1765 = 0.15 / (1-0.15) to get 15% validation set"
   ]
  },
  {
   "cell_type": "code",
   "execution_count": 39,
   "id": "763a2d4c",
   "metadata": {},
   "outputs": [
    {
     "name": "stdout",
     "output_type": "stream",
     "text": [
      "Number of features after PCA: 21\n"
     ]
    }
   ],
   "source": [
    "# --- Classical ML Models ---\n",
    "\n",
    "# Feature Engineering for classical ML models (TF-IDF)\n",
    "vectorizer = TfidfVectorizer(max_features=5000, min_df=5, max_df=0.7)\n",
    "X = vectorizer.fit_transform(df['text']).toarray()\n",
    "y = df['label'].values\n",
    "\n",
    "# Scaling & Normalization\n",
    "scaler = StandardScaler()\n",
    "X_scaled = scaler.fit_transform(X)\n",
    "\n",
    "# PCA\n",
    "pca = PCA(n_components=0.95)  # Retain 95% of the variance\n",
    "X_pca = pca.fit_transform(X_scaled)\n",
    "print(\"Number of features after PCA:\", X_pca.shape[1])\n",
    "\n",
    "# Split the PCA-transformed data for classical ML models\n",
    "X_train_pca, X_test_pca, y_train_pca, y_test_pca = train_test_split(\n",
    "    X_pca, y, test_size=0.2, random_state=42, stratify=y\n",
    ")"
   ]
  },
  {
   "cell_type": "code",
   "execution_count": 40,
   "id": "38dbcc32",
   "metadata": {},
   "outputs": [
    {
     "name": "stderr",
     "output_type": "stream",
     "text": [
      "Some weights of BertForSequenceClassification were not initialized from the model checkpoint at dbmdz/bert-base-turkish-cased and are newly initialized: ['classifier.bias', 'classifier.weight']\n",
      "You should probably TRAIN this model on a down-stream task to be able to use it for predictions and inference.\n"
     ]
    }
   ],
   "source": [
    "# --- BERT Model ---\n",
    "\n",
    "# Load BERT tokenizer and model\n",
    "tokenizer = BertTokenizer.from_pretrained('dbmdz/bert-base-turkish-cased')\n",
    "bert_model = BertForSequenceClassification.from_pretrained(\n",
    "    'dbmdz/bert-base-turkish-cased',\n",
    "    num_labels=2\n",
    ")"
   ]
  },
  {
   "cell_type": "code",
   "execution_count": 41,
   "id": "6fdb08e2",
   "metadata": {},
   "outputs": [],
   "source": [
    "# Prepare data for BERT\n",
    "MAX_LEN = 128\n",
    "\n",
    "def prepare_bert_data(texts, labels, tokenizer, max_length):\n",
    "    input_ids = []\n",
    "    attention_masks = []\n",
    "    \n",
    "    for text in texts:\n",
    "        encoded_dict = tokenizer.encode_plus(\n",
    "            text,\n",
    "            add_special_tokens=True,\n",
    "            max_length=max_length,\n",
    "            padding='max_length',\n",
    "            truncation=True,\n",
    "            return_attention_mask=True,\n",
    "            return_tensors='pt',\n",
    "        )\n",
    "        input_ids.append(encoded_dict['input_ids'])\n",
    "        attention_masks.append(encoded_dict['attention_mask'])\n",
    "    \n",
    "    input_ids = torch.cat(input_ids, dim=0)\n",
    "    attention_masks = torch.cat(attention_masks, dim=0)\n",
    "    labels = torch.tensor(labels.values)\n",
    "    \n",
    "    return input_ids, attention_masks, labels"
   ]
  },
  {
   "cell_type": "code",
   "execution_count": 42,
   "id": "b64288de",
   "metadata": {},
   "outputs": [],
   "source": [
    "# Prepare training, validation, and test data for BERT\n",
    "train_inputs, train_masks, train_labels = prepare_bert_data(X_train, y_train, tokenizer, MAX_LEN)\n",
    "val_inputs, val_masks, val_labels = prepare_bert_data(X_val, y_val, tokenizer, MAX_LEN)\n",
    "test_inputs, test_masks, test_labels = prepare_bert_data(X_test, y_test, tokenizer, MAX_LEN)\n",
    "\n",
    "# Create DataLoaders for BERT with optimized settings\n",
    "batch_size = 8  # Reduced batch size for GTX 1650Ti\n",
    "train_dataset = TensorDataset(train_inputs, train_masks, train_labels)\n",
    "train_dataloader = DataLoader(\n",
    "    train_dataset,\n",
    "    sampler=RandomSampler(train_dataset),\n",
    "    batch_size=batch_size,\n",
    "    num_workers=0\n",
    ")\n",
    "val_dataset = TensorDataset(val_inputs, val_masks, val_labels)\n",
    "val_dataloader = DataLoader(\n",
    "    val_dataset,\n",
    "    sampler=SequentialSampler(val_dataset),\n",
    "    batch_size=batch_size,\n",
    "    num_workers=0\n",
    ")\n",
    "test_dataset = TensorDataset(test_inputs, test_masks, test_labels)\n",
    "test_dataloader = DataLoader(\n",
    "    test_dataset,\n",
    "    sampler=SequentialSampler(test_dataset),\n",
    "    batch_size=batch_size,\n",
    "    num_workers=0\n",
    ")"
   ]
  },
  {
   "cell_type": "code",
   "execution_count": 43,
   "id": "2fe1a176",
   "metadata": {},
   "outputs": [
    {
     "name": "stderr",
     "output_type": "stream",
     "text": [
      "C:\\Users\\Windows\\AppData\\Local\\Temp\\ipykernel_12244\\3872322393.py:12: FutureWarning: `torch.cuda.amp.GradScaler(args...)` is deprecated. Please use `torch.amp.GradScaler('cuda', args...)` instead.\n",
      "  scaler = GradScaler()\n",
      "C:\\Users\\Windows\\AppData\\Roaming\\Python\\Python312\\site-packages\\torch\\amp\\grad_scaler.py:136: UserWarning: torch.cuda.amp.GradScaler is enabled, but CUDA is not available.  Disabling.\n",
      "  warnings.warn(\n"
     ]
    }
   ],
   "source": [
    "# Set up device and move BERT model to device\n",
    "device = torch.device(\"cuda\" if torch.cuda.is_available() else \"cpu\")\n",
    "bert_model.to(device)\n",
    "\n",
    "# Optimizer and scheduler for BERT\n",
    "optimizer = AdamW(bert_model.parameters(), lr=2e-5, eps=1e-8)\n",
    "epochs = 2  # Maximum epochs\n",
    "total_steps = len(train_dataloader) * epochs\n",
    "scheduler = get_linear_schedule_with_warmup(optimizer, num_warmup_steps=0, num_training_steps=total_steps)\n",
    "\n",
    "# Mixed precision training setup\n",
    "scaler = GradScaler()\n",
    "\n",
    "# Gradient accumulation settings\n",
    "accumulation_steps = 2  # Effective batch size = batch_size * accumulation_steps = 16\n",
    "\n",
    "# Early stopping settings\n",
    "best_val_loss = float('inf')\n",
    "patience = 1  # Stop if validation loss doesn't improve for 1 epoch\n",
    "patience_counter = 0"
   ]
  },
  {
   "cell_type": "code",
   "execution_count": 44,
   "id": "c8fc06ef",
   "metadata": {},
   "outputs": [],
   "source": [
    "# Train BERT with early stopping\n",
    "def train_bert():\n",
    "    bert_model.train()\n",
    "    total_loss = 0\n",
    "    optimizer.zero_grad()\n",
    "    \n",
    "    for step, batch in enumerate(train_dataloader):\n",
    "        batch_input_ids = batch[0].to(device)\n",
    "        batch_attention_masks = batch[1].to(device)\n",
    "        batch_labels = batch[2].to(device)\n",
    "        \n",
    "        with autocast():\n",
    "            outputs = bert_model(\n",
    "                batch_input_ids,\n",
    "                attention_mask=batch_attention_masks,\n",
    "                labels=batch_labels\n",
    "            )\n",
    "            loss = outputs.loss / accumulation_steps\n",
    "        \n",
    "        scaler.scale(loss).backward()\n",
    "        \n",
    "        total_loss += loss.item() * accumulation_steps\n",
    "        \n",
    "        if (step + 1) % accumulation_steps == 0:\n",
    "            scaler.step(optimizer)\n",
    "            scaler.update()\n",
    "            scheduler.step()\n",
    "            optimizer.zero_grad()\n",
    "        \n",
    "        if step % 10 == 0 and step != 0:\n",
    "            print(f\"Step {step}/{len(train_dataloader)} in epoch\")\n",
    "    \n",
    "    return total_loss / len(train_dataloader)"
   ]
  },
  {
   "cell_type": "code",
   "execution_count": 45,
   "id": "5b2c4973",
   "metadata": {},
   "outputs": [],
   "source": [
    "# Evaluate BERT on validation set for early stopping\n",
    "def evaluate_bert_val():\n",
    "    bert_model.eval()\n",
    "    total_loss = 0\n",
    "    with torch.no_grad():\n",
    "        for batch in val_dataloader:\n",
    "            batch_input_ids = batch[0].to(device)\n",
    "            batch_attention_masks = batch[1].to(device)\n",
    "            batch_labels = batch[2].to(device)\n",
    "            \n",
    "            with autocast():\n",
    "                outputs = bert_model(\n",
    "                    batch_input_ids,\n",
    "                    attention_mask=batch_attention_masks,\n",
    "                    labels=batch_labels\n",
    "                )\n",
    "            loss = outputs.loss\n",
    "            total_loss += loss.item()\n",
    "    \n",
    "    return total_loss / len(val_dataloader)"
   ]
  },
  {
   "cell_type": "code",
   "execution_count": 46,
   "id": "8bd6358a",
   "metadata": {},
   "outputs": [],
   "source": [
    "# Evaluate BERT on test set\n",
    "def evaluate_bert_test():\n",
    "    bert_model.eval()\n",
    "    predictions = []\n",
    "    with torch.no_grad():\n",
    "        for batch in test_dataloader:\n",
    "            batch_input_ids = batch[0].to(device)\n",
    "            batch_attention_masks = batch[1].to(device)\n",
    "            \n",
    "            with autocast():\n",
    "                outputs = bert_model(batch_input_ids, attention_mask=batch_attention_masks)\n",
    "            logits = outputs.logits\n",
    "            batch_predictions = torch.argmax(logits, dim=1).cpu().numpy()\n",
    "            predictions.extend(batch_predictions)\n",
    "    return predictions"
   ]
  },
  {
   "cell_type": "code",
   "execution_count": 47,
   "id": "a5a8dd46",
   "metadata": {},
   "outputs": [
    {
     "name": "stdout",
     "output_type": "stream",
     "text": [
      "Training BERT - Epoch 1/2\n"
     ]
    },
    {
     "name": "stderr",
     "output_type": "stream",
     "text": [
      "C:\\Users\\Windows\\AppData\\Local\\Temp\\ipykernel_12244\\3553278083.py:12: FutureWarning: `torch.cuda.amp.autocast(args...)` is deprecated. Please use `torch.amp.autocast('cuda', args...)` instead.\n",
      "  with autocast():\n",
      "C:\\Users\\Windows\\AppData\\Roaming\\Python\\Python312\\site-packages\\torch\\amp\\autocast_mode.py:266: UserWarning: User provided device_type of 'cuda', but CUDA is not available. Disabling\n",
      "  warnings.warn(\n"
     ]
    },
    {
     "name": "stdout",
     "output_type": "stream",
     "text": [
      "Step 10/618 in epoch\n",
      "Step 20/618 in epoch\n",
      "Step 30/618 in epoch\n",
      "Step 40/618 in epoch\n",
      "Step 50/618 in epoch\n",
      "Step 60/618 in epoch\n",
      "Step 70/618 in epoch\n",
      "Step 80/618 in epoch\n",
      "Step 90/618 in epoch\n",
      "Step 100/618 in epoch\n",
      "Step 110/618 in epoch\n",
      "Step 120/618 in epoch\n",
      "Step 130/618 in epoch\n",
      "Step 140/618 in epoch\n",
      "Step 150/618 in epoch\n",
      "Step 160/618 in epoch\n",
      "Step 170/618 in epoch\n",
      "Step 180/618 in epoch\n",
      "Step 190/618 in epoch\n",
      "Step 200/618 in epoch\n",
      "Step 210/618 in epoch\n",
      "Step 220/618 in epoch\n",
      "Step 230/618 in epoch\n",
      "Step 240/618 in epoch\n",
      "Step 250/618 in epoch\n",
      "Step 260/618 in epoch\n",
      "Step 270/618 in epoch\n",
      "Step 280/618 in epoch\n",
      "Step 290/618 in epoch\n",
      "Step 300/618 in epoch\n",
      "Step 310/618 in epoch\n",
      "Step 320/618 in epoch\n",
      "Step 330/618 in epoch\n",
      "Step 340/618 in epoch\n",
      "Step 350/618 in epoch\n",
      "Step 360/618 in epoch\n",
      "Step 370/618 in epoch\n",
      "Step 380/618 in epoch\n",
      "Step 390/618 in epoch\n",
      "Step 400/618 in epoch\n",
      "Step 410/618 in epoch\n",
      "Step 420/618 in epoch\n",
      "Step 430/618 in epoch\n",
      "Step 440/618 in epoch\n",
      "Step 450/618 in epoch\n",
      "Step 460/618 in epoch\n",
      "Step 470/618 in epoch\n",
      "Step 480/618 in epoch\n",
      "Step 490/618 in epoch\n",
      "Step 500/618 in epoch\n",
      "Step 510/618 in epoch\n",
      "Step 520/618 in epoch\n",
      "Step 530/618 in epoch\n",
      "Step 540/618 in epoch\n",
      "Step 550/618 in epoch\n",
      "Step 560/618 in epoch\n",
      "Step 570/618 in epoch\n",
      "Step 580/618 in epoch\n",
      "Step 590/618 in epoch\n",
      "Step 600/618 in epoch\n",
      "Step 610/618 in epoch\n",
      "Average training loss: 0.0151\n"
     ]
    },
    {
     "name": "stderr",
     "output_type": "stream",
     "text": [
      "C:\\Users\\Windows\\AppData\\Local\\Temp\\ipykernel_12244\\2490026723.py:11: FutureWarning: `torch.cuda.amp.autocast(args...)` is deprecated. Please use `torch.amp.autocast('cuda', args...)` instead.\n",
      "  with autocast():\n"
     ]
    },
    {
     "name": "stdout",
     "output_type": "stream",
     "text": [
      "Validation loss: 0.0001\n",
      "Best model saved.\n",
      "Training BERT - Epoch 2/2\n",
      "Step 10/618 in epoch\n",
      "Step 20/618 in epoch\n",
      "Step 30/618 in epoch\n",
      "Step 40/618 in epoch\n",
      "Step 50/618 in epoch\n",
      "Step 60/618 in epoch\n",
      "Step 70/618 in epoch\n",
      "Step 80/618 in epoch\n",
      "Step 90/618 in epoch\n",
      "Step 100/618 in epoch\n",
      "Step 110/618 in epoch\n",
      "Step 120/618 in epoch\n",
      "Step 130/618 in epoch\n",
      "Step 140/618 in epoch\n",
      "Step 150/618 in epoch\n",
      "Step 160/618 in epoch\n",
      "Step 170/618 in epoch\n",
      "Step 180/618 in epoch\n",
      "Step 190/618 in epoch\n",
      "Step 200/618 in epoch\n",
      "Step 210/618 in epoch\n",
      "Step 220/618 in epoch\n",
      "Step 230/618 in epoch\n",
      "Step 240/618 in epoch\n",
      "Step 250/618 in epoch\n",
      "Step 260/618 in epoch\n",
      "Step 270/618 in epoch\n",
      "Step 280/618 in epoch\n",
      "Step 290/618 in epoch\n",
      "Step 300/618 in epoch\n",
      "Step 310/618 in epoch\n",
      "Step 320/618 in epoch\n",
      "Step 330/618 in epoch\n",
      "Step 340/618 in epoch\n",
      "Step 350/618 in epoch\n",
      "Step 360/618 in epoch\n",
      "Step 370/618 in epoch\n",
      "Step 380/618 in epoch\n",
      "Step 390/618 in epoch\n",
      "Step 400/618 in epoch\n",
      "Step 410/618 in epoch\n",
      "Step 420/618 in epoch\n",
      "Step 430/618 in epoch\n",
      "Step 440/618 in epoch\n",
      "Step 450/618 in epoch\n",
      "Step 460/618 in epoch\n",
      "Step 470/618 in epoch\n",
      "Step 480/618 in epoch\n",
      "Step 490/618 in epoch\n",
      "Step 500/618 in epoch\n",
      "Step 510/618 in epoch\n",
      "Step 520/618 in epoch\n",
      "Step 530/618 in epoch\n",
      "Step 540/618 in epoch\n",
      "Step 550/618 in epoch\n",
      "Step 560/618 in epoch\n",
      "Step 570/618 in epoch\n",
      "Step 580/618 in epoch\n",
      "Step 590/618 in epoch\n",
      "Step 600/618 in epoch\n",
      "Step 610/618 in epoch\n",
      "Average training loss: 0.0002\n",
      "Validation loss: 0.0001\n",
      "Best model saved.\n"
     ]
    }
   ],
   "source": [
    "# Train and evaluate BERT with early stopping\n",
    "for epoch in range(epochs):\n",
    "    print(f\"Training BERT - Epoch {epoch+1}/{epochs}\")\n",
    "    avg_train_loss = train_bert()\n",
    "    print(f\"Average training loss: {avg_train_loss:.4f}\")\n",
    "    \n",
    "    # Validation loss\n",
    "    val_loss = evaluate_bert_val()\n",
    "    print(f\"Validation loss: {val_loss:.4f}\")\n",
    "    \n",
    "    # Early stopping check\n",
    "    if val_loss < best_val_loss:\n",
    "        best_val_loss = val_loss\n",
    "        patience_counter = 0\n",
    "        # Save the best model\n",
    "        bert_model.save_pretrained('best_bert_model')\n",
    "        tokenizer.save_pretrained('best_bert_model')\n",
    "        print(\"Best model saved.\")\n",
    "    else:\n",
    "        patience_counter += 1\n",
    "        print(f\"Patience counter: {patience_counter}/{patience}\")\n",
    "        if patience_counter >= patience:\n",
    "            print(\"Early stopping: Validation loss did not improve.\")\n",
    "            break"
   ]
  },
  {
   "cell_type": "code",
   "execution_count": 48,
   "id": "da6e5091",
   "metadata": {},
   "outputs": [
    {
     "name": "stderr",
     "output_type": "stream",
     "text": [
      "C:\\Users\\Windows\\AppData\\Local\\Temp\\ipykernel_12244\\1800579232.py:10: FutureWarning: `torch.cuda.amp.autocast(args...)` is deprecated. Please use `torch.amp.autocast('cuda', args...)` instead.\n",
      "  with autocast():\n"
     ]
    },
    {
     "name": "stdout",
     "output_type": "stream",
     "text": [
      "\n",
      "=== Results for BERT ===\n",
      "              precision    recall  f1-score   support\n",
      "\n",
      "        Safe       1.00      1.00      1.00       300\n",
      "    Phishing       1.00      1.00      1.00      1201\n",
      "\n",
      "    accuracy                           1.00      1501\n",
      "   macro avg       1.00      1.00      1.00      1501\n",
      "weighted avg       1.00      1.00      1.00      1501\n",
      "\n"
     ]
    }
   ],
   "source": [
    "# Load the best model for evaluation\n",
    "bert_model = BertForSequenceClassification.from_pretrained('best_bert_model')\n",
    "bert_model.to(device)\n",
    "bert_predictions = evaluate_bert_test()\n",
    "print(\"\\n=== Results for BERT ===\")\n",
    "print(classification_report(y_test, bert_predictions, target_names=['Safe', 'Phishing']))"
   ]
  },
  {
   "cell_type": "code",
   "execution_count": 49,
   "id": "8488ca63",
   "metadata": {},
   "outputs": [],
   "source": [
    "# --- Classical ML Models ---\n",
    "\n",
    "# List of classical ML models\n",
    "models = {\n",
    "    'Random Forest': RandomForestClassifier(n_estimators=100, random_state=42),\n",
    "    'Logistic Regression': LogisticRegression(max_iter=1000, random_state=42),\n",
    "    'SVM': SVC(kernel='linear', probability=True, random_state=42),\n",
    "    'KNN': KNeighborsClassifier(n_neighbors=5),\n",
    "    'XGBoost': XGBClassifier(use_label_encoder=False, eval_metric='logloss', random_state=42)\n",
    "}"
   ]
  },
  {
   "cell_type": "code",
   "execution_count": 50,
   "id": "a759d195",
   "metadata": {},
   "outputs": [
    {
     "name": "stdout",
     "output_type": "stream",
     "text": [
      "\n",
      "=== Results for Random Forest ===\n",
      "              precision    recall  f1-score   support\n",
      "\n",
      "        Safe       1.00      1.00      1.00       300\n",
      "    Phishing       1.00      1.00      1.00      1201\n",
      "\n",
      "    accuracy                           1.00      1501\n",
      "   macro avg       1.00      1.00      1.00      1501\n",
      "weighted avg       1.00      1.00      1.00      1501\n",
      "\n",
      "\n",
      "=== Results for Logistic Regression ===\n",
      "              precision    recall  f1-score   support\n",
      "\n",
      "        Safe       1.00      1.00      1.00       300\n",
      "    Phishing       1.00      1.00      1.00      1201\n",
      "\n",
      "    accuracy                           1.00      1501\n",
      "   macro avg       1.00      1.00      1.00      1501\n",
      "weighted avg       1.00      1.00      1.00      1501\n",
      "\n",
      "\n",
      "=== Results for SVM ===\n",
      "              precision    recall  f1-score   support\n",
      "\n",
      "        Safe       1.00      1.00      1.00       300\n",
      "    Phishing       1.00      1.00      1.00      1201\n",
      "\n",
      "    accuracy                           1.00      1501\n",
      "   macro avg       1.00      1.00      1.00      1501\n",
      "weighted avg       1.00      1.00      1.00      1501\n",
      "\n",
      "\n",
      "=== Results for KNN ===\n",
      "              precision    recall  f1-score   support\n",
      "\n",
      "        Safe       1.00      1.00      1.00       300\n",
      "    Phishing       1.00      1.00      1.00      1201\n",
      "\n",
      "    accuracy                           1.00      1501\n",
      "   macro avg       1.00      1.00      1.00      1501\n",
      "weighted avg       1.00      1.00      1.00      1501\n",
      "\n",
      "\n",
      "=== Results for XGBoost ===\n",
      "              precision    recall  f1-score   support\n",
      "\n",
      "        Safe       1.00      1.00      1.00       300\n",
      "    Phishing       1.00      1.00      1.00      1201\n",
      "\n",
      "    accuracy                           1.00      1501\n",
      "   macro avg       1.00      1.00      1.00      1501\n",
      "weighted avg       1.00      1.00      1.00      1501\n",
      "\n"
     ]
    },
    {
     "name": "stderr",
     "output_type": "stream",
     "text": [
      "C:\\Users\\Windows\\AppData\\Roaming\\Python\\Python312\\site-packages\\xgboost\\training.py:183: UserWarning: [17:23:48] WARNING: C:\\actions-runner\\_work\\xgboost\\xgboost\\src\\learner.cc:738: \n",
      "Parameters: { \"use_label_encoder\" } are not used.\n",
      "\n",
      "  bst.update(dtrain, iteration=i, fobj=obj)\n"
     ]
    }
   ],
   "source": [
    "# Train and evaluate classical ML models\n",
    "results = []\n",
    "predictions = {'BERT': bert_predictions}\n",
    "\n",
    "for name, model in models.items():\n",
    "    # Train the model\n",
    "    model.fit(X_train_pca, y_train_pca)\n",
    "    \n",
    "    # Make predictions\n",
    "    y_pred = model.predict(X_test_pca)\n",
    "    predictions[name] = y_pred\n",
    "    \n",
    "    # Calculate performance metrics\n",
    "    f1 = f1_score(y_test_pca, y_pred, average='weighted')\n",
    "    report = classification_report(y_test_pca, y_pred, target_names=['Safe', 'Phishing'], output_dict=True)\n",
    "    precision = report['weighted avg']['precision']\n",
    "    recall = report['weighted avg']['recall']\n",
    "    \n",
    "    results.append({\n",
    "        'Model': name,\n",
    "        'F1-Score': f1,\n",
    "        'Precision': precision,\n",
    "        'Recall': recall\n",
    "    })\n",
    "    \n",
    "    print(f\"\\n=== Results for {name} ===\")\n",
    "    print(classification_report(y_test_pca, y_pred, target_names=['Safe', 'Phishing']))"
   ]
  },
  {
   "cell_type": "code",
   "execution_count": 51,
   "id": "268dbb5f",
   "metadata": {},
   "outputs": [],
   "source": [
    "# Add BERT results to the comparison\n",
    "bert_f1 = f1_score(y_test, bert_predictions, average='weighted')\n",
    "bert_report = classification_report(y_test, bert_predictions, target_names=['Safe', 'Phishing'], output_dict=True)\n",
    "results.append({\n",
    "    'Model': 'BERT',\n",
    "    'F1-Score': bert_f1,\n",
    "    'Precision': bert_report['weighted avg']['precision'],\n",
    "    'Recall': bert_report['weighted avg']['recall']\n",
    "})"
   ]
  },
  {
   "cell_type": "code",
   "execution_count": 52,
   "id": "c93d54d5",
   "metadata": {},
   "outputs": [
    {
     "name": "stdout",
     "output_type": "stream",
     "text": [
      "\n",
      "=== Model Performance Comparison ===\n",
      "                 Model  F1-Score  Precision    Recall\n",
      "0        Random Forest  1.000000   1.000000  1.000000\n",
      "1  Logistic Regression  1.000000   1.000000  1.000000\n",
      "2                  SVM  1.000000   1.000000  1.000000\n",
      "3                  KNN  0.999334   0.999336  0.999334\n",
      "4              XGBoost  1.000000   1.000000  1.000000\n",
      "5                 BERT  1.000000   1.000000  1.000000\n"
     ]
    },
    {
     "data": {
      "text/plain": [
       "<Figure size 1000x600 with 0 Axes>"
      ]
     },
     "metadata": {},
     "output_type": "display_data"
    }
   ],
   "source": [
    "# Summarize results in a table\n",
    "results_df = pd.DataFrame(results)\n",
    "print(\"\\n=== Model Performance Comparison ===\")\n",
    "print(results_df)\n",
    "\n",
    "# Plot performance comparison\n",
    "plt.figure(figsize=(10, 6))\n",
    "metrics = ['F1-Score', 'Precision', 'Recall']\n",
    "x = np.arange(len(metrics))\n",
    "width = 0.15"
   ]
  },
  {
   "cell_type": "code",
   "execution_count": 53,
   "id": "5bd124aa",
   "metadata": {},
   "outputs": [
    {
     "data": {
      "image/png": "[encoded data removed]",
      "text/plain": [
       "<Figure size 640x480 with 1 Axes>"
      ]
     },
     "metadata": {},
     "output_type": "display_data"
    }
   ],
   "source": [
    "for i, model in enumerate(results_df['Model']):\n",
    "    values = results_df.iloc[i][['F1-Score', 'Precision', 'Recall']].values\n",
    "    plt.bar(x + (i - 2.5) * width, values, width, label=model)\n",
    "\n",
    "plt.xlabel('Metric')\n",
    "plt.ylabel('Value')\n",
    "plt.title('Model Performance Comparison')\n",
    "plt.xticks(x, metrics)\n",
    "plt.legend()\n",
    "plt.grid(axis='y', linestyle='--', alpha=0.7)\n",
    "plt.tight_layout()\n",
    "plt.savefig('model_comparison.png')"
   ]
  },
  {
   "cell_type": "code",
   "execution_count": 54,
   "id": "6885f1f2",
   "metadata": {},
   "outputs": [
    {
     "data": {
      "image/png": "[encoded data removed]",
      "text/plain": [
       "<Figure size 1500x1000 with 12 Axes>"
      ]
     },
     "metadata": {},
     "output_type": "display_data"
    }
   ],
   "source": [
    "# Plot confusion matrices for each model\n",
    "fig, axes = plt.subplots(2, 3, figsize=(15, 10))\n",
    "axes = axes.ravel()\n",
    "\n",
    "for idx, (name, y_pred) in enumerate(predictions.items()):\n",
    "    cm = confusion_matrix(y_test, y_pred)\n",
    "    sns.heatmap(cm, annot=True, fmt='d', cmap='Blues', ax=axes[idx],\n",
    "                xticklabels=['Safe', 'Phishing'],\n",
    "                yticklabels=['Safe', 'Phishing'])\n",
    "    axes[idx].set_title(f'{name} Confusion Matrix')\n",
    "    axes[idx].set_xlabel('Predicted')\n",
    "    axes[idx].set_ylabel('True')"
   ]
  },
  {
   "cell_type": "code",
   "execution_count": 55,
   "id": "0c5dc02c",
   "metadata": {},
   "outputs": [
    {
     "data": {
      "text/plain": [
       "<Figure size 640x480 with 0 Axes>"
      ]
     },
     "metadata": {},
     "output_type": "display_data"
    }
   ],
   "source": [
    "# Hide empty subplots\n",
    "for idx in range(len(predictions), len(axes)):\n",
    "    fig.delaxes(axes[idx])\n",
    "\n",
    "plt.tight_layout()\n",
    "plt.savefig('confusion_matrices.png')"
   ]
  },
  {
   "cell_type": "code",
   "execution_count": 56,
   "id": "71e2da98",
   "metadata": {},
   "outputs": [
    {
     "name": "stdout",
     "output_type": "stream",
     "text": [
      "\n",
      "Best model (based on F1-Score): Random Forest\n"
     ]
    }
   ],
   "source": [
    "# Select the best model based on F1-Score\n",
    "best_model_name = results_df.loc[results_df['F1-Score'].idxmax()]['Model']\n",
    "print(f\"\\nBest model (based on F1-Score): {best_model_name}\")"
   ]
  },
  {
   "cell_type": "code",
   "execution_count": null,
   "id": "0252761a",
   "metadata": {},
   "outputs": [],
   "source": []
  },
  {
   "cell_type": "code",
   "execution_count": null,
   "id": "824ae80f",
   "metadata": {},
   "outputs": [],
   "source": []
  }
 ],
 "metadata": {
  "kernelspec": {
   "display_name": "base",
   "language": "python",
   "name": "python3"
  },
  "language_info": {
   "codemirror_mode": {
    "name": "ipython",
    "version": 3
   },
   "file_extension": ".py",
   "mimetype": "text/x-python",
   "name": "python",
   "nbconvert_exporter": "python",
   "pygments_lexer": "ipython3",
   "version": "3.12.7"
  }
 },
 "nbformat": 4,
 "nbformat_minor": 5
}
